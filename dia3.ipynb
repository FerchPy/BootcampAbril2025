{
 "cells": [
  {
   "cell_type": "code",
   "execution_count": null,
   "id": "c3e00b36",
   "metadata": {},
   "outputs": [
    {
     "name": "stdout",
     "output_type": "stream",
     "text": [
      "Hola\n"
     ]
    }
   ],
   "source": [
    "#Crear una funcion que imprima la variable palabra\n",
    "palabra = input('Ingrese una palabra')\n",
    "\n",
    "def imprimir_palabra():\n",
    "    print(palabra)\n",
    "imprimir_palabra()"
   ]
  },
  {
   "cell_type": "code",
   "execution_count": null,
   "id": "23a01b02",
   "metadata": {},
   "outputs": [
    {
     "name": "stdout",
     "output_type": "stream",
     "text": [
      "Las letras son iguales\n"
     ]
    }
   ],
   "source": [
    "#Crear una funcion que reciba 2 letras (paramteros) y que verifique si son iguales:\n",
    "#1. Si son iguales imprimir 'Las letras son iguales'\n",
    "#2. De lo contrario imprimir 'Las letras son diferentes'\n",
    "\n",
    "def comparar_letras(letra_a, letra_b):\n",
    "\n",
    "    if letra_a.lower()== letra_b.lower(): #No pedía, pero le puse que convierta a minuscula antes de comparar\n",
    "        print('Las letras son iguales')\n",
    "    else:\n",
    "        print('Las letras son distintas')\n",
    "        \n",
    "comparar_letras('A', 'a')\n"
   ]
  },
  {
   "cell_type": "code",
   "execution_count": null,
   "id": "801a6082",
   "metadata": {},
   "outputs": [
    {
     "data": {
      "text/plain": [
       "True"
      ]
     },
     "execution_count": 10,
     "metadata": {},
     "output_type": "execute_result"
    }
   ],
   "source": [
    "#Crear una función que reciba dos parámetros (una palabra y un número), y que retorne True si el número es igual a la cantidad de letras de la palabra. En caso contrario, que retorne False.\n",
    "#Pista: cantidad de letras de una palabra en python\n",
    "\n",
    "def comparar_cantidad_de_letras(palabra_ingresada, numero_ingresado):\n",
    "    if len(palabra_ingresada) == numero_ingresado:\n",
    "        return  True\n",
    "    else:\n",
    "         return False\n",
    "    \n",
    "comparar_cantidad_de_letras('hola', 4)\n",
    "\n",
    "\n",
    "        "
   ]
  },
  {
   "cell_type": "code",
   "execution_count": 27,
   "id": "fd77e0cd",
   "metadata": {},
   "outputs": [
    {
     "name": "stdout",
     "output_type": "stream",
     "text": [
      "[['h', 'o', 'l', 'a']]\n",
      "[['h', 'o', 'l', 'a'], ['h', 'o', 'l', 'a']]\n",
      "[['h', 'o', 'l', 'a'], ['h', 'o', 'l', 'a'], ['h', 'o', 'l', 'a']]\n"
     ]
    }
   ],
   "source": [
    "#Crear una lista\n",
    "#Pedir que se ingrese una palabra a la lista\n",
    "#Imprimir las listas 3 veces\n",
    "lista_de_palabras = []\n",
    "\n",
    "for i in range(3):\n",
    "    palabra_del_usuario = input('Ingrese una palabra')\n",
    "    lista_de_letras = list(palabra_del_usuario)\n",
    "    lista_de_palabras.append(lista_de_letras)\n",
    "    print(lista_de_palabras)"
   ]
  },
  {
   "cell_type": "code",
   "execution_count": null,
   "id": "ad834ace",
   "metadata": {},
   "outputs": [
    {
     "name": "stdout",
     "output_type": "stream",
     "text": [
      "['hola', 'adios']\n"
     ]
    }
   ],
   "source": [
    "#Ejemplo de un compa\n",
    "\n",
    "palabras = []\n",
    "\n",
    "while True:\n",
    "    palabra = input(str('ingrese una palabra'))\n",
    "\n",
    "    if palabra == 'salir':\n",
    "        break\n",
    "\n",
    "    palabras.append(palabra)\n",
    "\n",
    "print(palabras)"
   ]
  },
  {
   "cell_type": "code",
   "execution_count": 40,
   "id": "e188b99f",
   "metadata": {},
   "outputs": [
    {
     "name": "stdout",
     "output_type": "stream",
     "text": [
      "['h', 'o', 'l', 'i', 's']\n",
      "['h', 'e', 'l', 'l', 'o']\n",
      "['h', 'a', 'l', 'l', 'o']\n"
     ]
    }
   ],
   "source": [
    "\n",
    "def imprimir_saludos():\n",
    "    lista_saludos = [['h', 'o', 'l', 'i', 's'], ['h', 'e', 'l', 'l', 'o'], ['h', 'a', 'l', 'l', 'o']]\n",
    "    for listar_saludos in lista_saludos:\n",
    "        print(listar_saludos)\n",
    "\n",
    "imprimir_saludos()"
   ]
  },
  {
   "cell_type": "code",
   "execution_count": null,
   "id": "71f8cd75",
   "metadata": {},
   "outputs": [],
   "source": [
    "##Definir palabra a encontrar\n",
    "# definir cantidad de letras\n",
    "# definir intentos\n",
    "# crear grila vacia(ista para mostrar el progreso del jugador)\n",
    "# mostrar mensaje de bienvenida##\n",
    "\n",
    "Nunguna letra coincide"
   ]
  },
  {
   "cell_type": "code",
   "execution_count": null,
   "id": "eb1a8c39",
   "metadata": {},
   "outputs": [
    {
     "name": "stdout",
     "output_type": "stream",
     "text": [
      "\n",
      "2\n",
      "['[h]', '[o]', '[l]', '[a]', 'm']\n",
      "\n",
      "1\n",
      "['[h]', '[o]', '[l]', '[a]', 'r']\n",
      "\n",
      "0\n",
      "['[h]', '[o]', '[l]', 'i', '(l)']\n"
     ]
    }
   ],
   "source": [
    "palabra_del_juego = input('Palabra a que se estará adivinando')\n",
    "vidas = 3\n",
    "\n",
    "\n",
    "\n",
    "def conocer_fila_verificada (palabra_del_juego, palabra_del_usuario):\n",
    "    longitud_de_palabras = 5\n",
    "    comparacion_de_letras = []\n",
    "    \n",
    "    for indice in range(longitud_de_palabras):\n",
    "        mismas_letras = palabra_del_juego[indice] == palabra_del_usuario[indice]\n",
    "        letras_existentes = palabra_del_usuario [indice] in palabra_del_juego\n",
    "        if mismas_letras:\n",
    "            comparacion_de_letras.append('[' + palabra_del_usuario[indice] + ']')\n",
    "        elif letras_existentes:\n",
    "            comparacion_de_letras.append('(' + palabra_del_usuario[indice] + ')')\n",
    "        else:\n",
    "            comparacion_de_letras.append(palabra_del_usuario[indice])\n",
    "    return comparacion_de_letras\n",
    "    \n",
    "\n",
    "\n",
    "#linea_verificada = conocer_fila_verificada(palabra_del_juego, palabra_del_usuario)\n",
    "#print(linea_verificada)\n",
    "\n",
    "while vidas > 0:\n",
    "    palabra_del_usuario = input('Ingrese una palabra de 5 letras')\n",
    "    if palabra_del_usuario == palabra_del_juego:\n",
    "        print('La palabra es correcta')\n",
    "        \n",
    "    else:\n",
    "        vidas = vidas -1\n",
    "        print()\n",
    "        print(vidas)\n",
    "        conocer_fila_verificada(palabra_del_juego, palabra_del_usuario)\n",
    "    \n",
    "\n",
    "\n",
    "\n",
    "    \n",
    "\n",
    "    \n",
    "\n",
    "\n",
    "\n",
    "    \n",
    "\n"
   ]
  }
 ],
 "metadata": {
  "kernelspec": {
   "display_name": ".venv",
   "language": "python",
   "name": "python3"
  },
  "language_info": {
   "codemirror_mode": {
    "name": "ipython",
    "version": 3
   },
   "file_extension": ".py",
   "mimetype": "text/x-python",
   "name": "python",
   "nbconvert_exporter": "python",
   "pygments_lexer": "ipython3",
   "version": "3.12.3"
  }
 },
 "nbformat": 4,
 "nbformat_minor": 5
}

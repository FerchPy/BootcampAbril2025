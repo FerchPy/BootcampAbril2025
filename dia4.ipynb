{
 "cells": [
  {
   "cell_type": "code",
   "execution_count": 14,
   "id": "4f636317",
   "metadata": {},
   "outputs": [
    {
     "name": "stdout",
     "output_type": "stream",
     "text": [
      "{'nombre': 'fer'}\n",
      "{'nombre': 'fer', 'edad': 25}\n",
      "{'nombre': 'fer', 'edad': 25, 'sexo': 'fe'}\n",
      "{'nombre': 'fer', 'edad': 25, 'sexo': 'fe', 'telefono': 995623656}\n",
      "{'nombre': 'fer', 'edad': 25, 'sexo': 'fe', 'telefono': 995623656, 'correo': 'fr@holo'}\n"
     ]
    }
   ],
   "source": [
    "#Crear diccionario vacío\n",
    "alumno = {}\n",
    "\n",
    "#Pedir al usuario que ingrese sus datos\n",
    "#Cada vez que ingrese sus datos, debe imprimir el diccionario\n",
    "alumno ['nombre'] = input(f'Ingrese su nombre')\n",
    "print(alumno)\n",
    "alumno ['edad'] = int(input(f'Ingrese su edad'))\n",
    "print(alumno)\n",
    "alumno ['sexo'] = input(f'Indique su sexo')\n",
    "print(alumno)\n",
    "alumno ['telefono'] = int(input(f'Ingrese su numero de telefono'))\n",
    "print(alumno)\n",
    "alumno ['correo'] = input('Ingrese su correo Electronico')\n",
    "print(alumno)\n"
   ]
  },
  {
   "cell_type": "code",
   "execution_count": 28,
   "id": "33ddc771",
   "metadata": {},
   "outputs": [
    {
     "ename": "ValueError",
     "evalue": "invalid literal for int() with base 10: ''",
     "output_type": "error",
     "traceback": [
      "\u001b[31m---------------------------------------------------------------------------\u001b[39m",
      "\u001b[31mValueError\u001b[39m                                Traceback (most recent call last)",
      "\u001b[36mCell\u001b[39m\u001b[36m \u001b[39m\u001b[32mIn[28]\u001b[39m\u001b[32m, line 27\u001b[39m\n\u001b[32m     21\u001b[39m         \u001b[38;5;28;01mdel\u001b[39;00m tarjeta_personal[palabra_clave]\n\u001b[32m     26\u001b[39m \u001b[38;5;28;01mwhile\u001b[39;00m \u001b[38;5;28;01mTrue\u001b[39;00m:\n\u001b[32m---> \u001b[39m\u001b[32m27\u001b[39m     accion_del_usuario = \u001b[38;5;28;43mint\u001b[39;49m\u001b[43m(\u001b[49m\u001b[38;5;28;43minput\u001b[39;49m\u001b[43m(\u001b[49m\u001b[33;43m'\u001b[39;49m\u001b[33;43mQue accion desea realizar? 1) Crear datos nuevos, 2) Modificar datos, 3) Eliminar datos\u001b[39;49m\u001b[33;43m'\u001b[39;49m\u001b[43m)\u001b[49m\u001b[43m)\u001b[49m\n\u001b[32m     28\u001b[39m     \u001b[38;5;28;01mif\u001b[39;00m accion_del_usuario == \u001b[32m1\u001b[39m:\n\u001b[32m     29\u001b[39m         crear_datos_nuevos()\n",
      "\u001b[31mValueError\u001b[39m: invalid literal for int() with base 10: ''"
     ]
    }
   ],
   "source": [
    "# Creo el diccionario \"tarjeta personal\"\n",
    "tarjeta_personal = {}\n",
    "#accion_del_usuario = None\n",
    "def crear_datos_nuevos():\n",
    "    palabra_clave = input('ingrese un campo para almacenar datos')\n",
    "    tarjeta_personal[palabra_clave] = input(f'ingrese los datos para el campo {palabra_clave}')\n",
    "\n",
    "\n",
    "\n",
    "def modificar_datos():\n",
    "    palabra_clave = input('ingrese el campo que desea modificar')\n",
    "    if palabra_clave in tarjeta_personal:\n",
    "        tarjeta_personal[palabra_clave] = input(f'Ingrese los datos a modificar del campo {palabra_clave}') \n",
    "\n",
    "\n",
    "    \n",
    "\n",
    "def eliminar_datos():\n",
    "    palabra_clave = input('Ingrese el campo que desea eliminar')\n",
    "    if palabra_clave in tarjeta_personal:\n",
    "        del tarjeta_personal[palabra_clave]\n",
    "\n",
    "\n",
    "\n",
    "\n",
    "while True:\n",
    "    accion_del_usuario = int(input('Que accion desea realizar? 1) Crear datos nuevos, 2) Modificar datos, 3) Eliminar datos'))\n",
    "    if accion_del_usuario == 1:\n",
    "        crear_datos_nuevos()\n",
    "        print(tarjeta_personal)\n",
    "    elif accion_del_usuario == 2:\n",
    "        modificar_datos()\n",
    "        print(tarjeta_personal)\n",
    "    elif accion_del_usuario == 3:\n",
    "        eliminar_datos()\n",
    "        print(tarjeta_personal)\n",
    "    else:\n",
    "        print('La opción no es válida')\n",
    "        \n",
    "\n",
    "\n",
    "     \n",
    "\n",
    "\n",
    "\n"
   ]
  },
  {
   "cell_type": "code",
   "execution_count": null,
   "id": "f83626bf",
   "metadata": {},
   "outputs": [
    {
     "name": "stdout",
     "output_type": "stream",
     "text": [
      "<built-in method keys of dict object at 0x7ddb9c8b1e00>\n"
     ]
    }
   ],
   "source": [
    "agenda_de_contactos = {\n",
    "\n",
    "    'contacto 1': {\n",
    "        'nombre ': 'fernando',\n",
    "        'apellido' : 'paniagua',\n",
    "        'sexo' : 'm',\n",
    "    },\n",
    "    'contacto 2': {\n",
    "        'nombre': 'jose',\n",
    "        'apellido': 'benitez',\n",
    "        'sexo': 'f',\n",
    "    }\n",
    "}\n",
    "\n",
    "def crear_nuevo_contacto():\n",
    "    palabra_clave = input('ingrese un campo para almacenar datos')\n",
    "    agenda_de_contactos[palabra_clave] = input(f'ingrese los datos para el campo {palabra_clave}')\n",
    "\n",
    "\n",
    "\n",
    "def modificar_datos():\n",
    "    palabra_clave = input('ingrese el campo que desea modificar')\n",
    "    if palabra_clave in tarjeta_personal:\n",
    "        tarjeta_personal[palabra_clave] = input(f'Ingrese los datos a modificar del campo {palabra_clave}') \n",
    "\n",
    "\n",
    "    \n",
    "\n",
    "def eliminar_datos():\n",
    "    palabra_clave = input('Ingrese el campo que desea eliminar')\n",
    "    if palabra_clave in tarjeta_personal:\n",
    "        del tarjeta_personal[palabra_clave]\n",
    "\n",
    "\n",
    "#while True:\n",
    "    accion_del_usuario = int(input('Que accion desea realizar? 1) Mostrar lo contactos, 2) Crear contacto, 3) Modificar datos del contacto'))\n",
    "    if accion_del_usuario == 1:\n",
    "        mostrar_contactos()\n",
    "        print(tarjeta_personal)\n",
    "    elif accion_del_usuario == 2:\n",
    "        crear_contacto()\n",
    "        print(tarjeta_personal)\n",
    "    elif accion_del_usuario == 3:\n",
    "        modificar_contacto()\n",
    "        print(tarjeta_personal)\n",
    "    else:\n",
    "        print('La opción no es válida')"
   ]
  },
  {
   "cell_type": "markdown",
   "id": "3c289c42",
   "metadata": {},
   "source": [
    "Challenge 🤺\n",
    "Crear dos métodos para nuestro animal y ejecutar, debe ser algo específico de ese animal.\n",
    "\n",
    "Ejemplo: \"Cuando hablo, digo X\".\n",
    "Ejemplo: \"Cuando me muevo, hago X\"."
   ]
  },
  {
   "cell_type": "code",
   "execution_count": 45,
   "id": "83745f50",
   "metadata": {},
   "outputs": [
    {
     "name": "stdout",
     "output_type": "stream",
     "text": [
      "caniche negro ataca mordiendo fuerte!!!\n"
     ]
    }
   ],
   "source": [
    "class Perro:\n",
    "    ojos = 2\n",
    "    patas = 4\n",
    "\n",
    "    def __init__(self, color, raza):\n",
    "        self.color = color\n",
    "        self.raza = raza\n",
    "    \n",
    "    def atacar(self):\n",
    "        return('ataca mordiendo fuerte!!!')\n",
    "    \n",
    "    def huir(self):\n",
    "        return('Corre evtando el conflicto')\n",
    "\n",
    "yuwailer = Perro('negro', 'caniche')\n",
    "\n",
    "print(yuwailer.raza, yuwailer.color, yuwailer.atacar())\n",
    "\n"
   ]
  },
  {
   "cell_type": "markdown",
   "id": "3a1fab6c",
   "metadata": {},
   "source": [
    "Challenge 🤺\n",
    "Definir una clase madre que herede a sus clases hijas dos atributos de instancia. Mostrar ambos atributos en pantalla desde los objetos de las clases hijas.\n",
    "\n",
    "Observación: Editar las clases hijas para que no se inicialicen."
   ]
  },
  {
   "cell_type": "code",
   "execution_count": 52,
   "id": "bc0f0229",
   "metadata": {},
   "outputs": [
    {
     "name": "stdout",
     "output_type": "stream",
     "text": [
      "rubio comprar\n",
      "negro patinar\n",
      "rojo pintar\n"
     ]
    }
   ],
   "source": [
    "class Madre:\n",
    "    color_de_ojos = 'verdes'\n",
    "    terrenos = 5\n",
    "    autos = 2\n",
    "\n",
    "    def __init__(self, color_cabello, hobbie):\n",
    "        self.color_cabello = color_cabello\n",
    "        self.hobbie = hobbie\n",
    "\n",
    "    def bailar(self):\n",
    "        return 'Baila bien'\n",
    "    def cantar(self):\n",
    "        return 'Canta bien'\n",
    "    \n",
    "maria = Madre('rubio', 'comprar',)\n",
    "\n",
    "class hijas(Madre):\n",
    "\n",
    "    def actividad(self):\n",
    "        return 'estudia'\n",
    "\n",
    "\n",
    "\n",
    "ana = hijas('negro', 'patinar')\n",
    "\n",
    "perla = hijas('rojo', 'pintar')\n",
    "\n",
    "\n",
    "print(maria.color_cabello, maria.hobbie)\n",
    "print(ana.color_cabello, ana.hobbie)\n",
    "print(perla.color_cabello, perla.hobbie)\n",
    "\n",
    "\n",
    "\n",
    "\n",
    "\n",
    "\n",
    "\n",
    "        \n",
    "\n",
    "    "
   ]
  }
 ],
 "metadata": {
  "kernelspec": {
   "display_name": ".venv",
   "language": "python",
   "name": "python3"
  },
  "language_info": {
   "codemirror_mode": {
    "name": "ipython",
    "version": 3
   },
   "file_extension": ".py",
   "mimetype": "text/x-python",
   "name": "python",
   "nbconvert_exporter": "python",
   "pygments_lexer": "ipython3",
   "version": "3.12.3"
  }
 },
 "nbformat": 4,
 "nbformat_minor": 5
}

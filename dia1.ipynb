{
 "cells": [
  {
   "cell_type": "code",
   "execution_count": 1,
   "id": "ee9abc20",
   "metadata": {},
   "outputs": [
    {
     "name": "stdout",
     "output_type": "stream",
     "text": [
      "Hola Mundo\n"
     ]
    }
   ],
   "source": [
    "print(\"Hola Mundo\")"
   ]
  },
  {
   "cell_type": "code",
   "execution_count": 3,
   "id": "70dc81f0",
   "metadata": {},
   "outputs": [
    {
     "name": "stdout",
     "output_type": "stream",
     "text": [
      "10\n",
      "6\n"
     ]
    }
   ],
   "source": [
    "cantidad_de_manzanas = 5\n",
    "cantidad_de_naranjas = 5\n",
    "cantidad_de_frutas = cantidad_de_manzanas + cantidad_de_naranjas\n",
    "print(cantidad_de_frutas)\n",
    "\n",
    "frutas_vendidas = 4\n",
    "frutas_restantes = cantidad_de_frutas - frutas_vendidas\n",
    "print(frutas_restantes)"
   ]
  },
  {
   "cell_type": "code",
   "execution_count": 10,
   "id": "3f4fd451",
   "metadata": {},
   "outputs": [
    {
     "name": "stdout",
     "output_type": "stream",
     "text": [
      "Hola. Me llamo Sebas Mujica. Mucho Gusto.\n"
     ]
    }
   ],
   "source": [
    "nombre = \"Sebas\"\n",
    "apellido = \"Mujica\"\n",
    "print(f\"Hola. Me llamo {nombre} {apellido}. Mucho Gusto.\")"
   ]
  },
  {
   "cell_type": "code",
   "execution_count": 15,
   "id": "c6ad2d44",
   "metadata": {},
   "outputs": [
    {
     "name": "stdout",
     "output_type": "stream",
     "text": [
      "La suma de los numeros es: 2\n"
     ]
    }
   ],
   "source": [
    "numero1 = input(\"Ingrese un numero\")\n",
    "numero2 = input(\"Ingrese otro numero\")\n",
    "suma_de_numeros = int(numero1) + int(numero2)\n",
    "print(f\"La suma de los numeros es: {suma_de_numeros}\")"
   ]
  },
  {
   "cell_type": "code",
   "execution_count": null,
   "id": "0e3725c5",
   "metadata": {},
   "outputs": [
    {
     "name": "stdout",
     "output_type": "stream",
     "text": [
      "Calentar Agua\n",
      "poner 2 cucharas de cafe\n",
      "poner 1 cuchara de azucar\n",
      "Listo\n",
      "Calentar Agua\n",
      "poner 2 cucharas de cafe\n",
      "poner 1 cuchara de azucar\n",
      "Listo\n",
      "Calentar Agua\n",
      "poner 2 cucharas de cafe\n",
      "poner 1 cuchara de azucar\n",
      "Listo\n"
     ]
    }
   ],
   "source": [
    "#Crear una funcion que tenga varios pasos y se repita 3 veces\n",
    "def preparar_cafe():\n",
    "    print(\"Calentar Agua\")\n",
    "    print(\"poner 1 cucharas de cafe\")\n",
    "    print(\"poner 2 cucharas de azucar\")\n",
    "    print(\"Listo\")\n",
    "\n",
    "preparar_cafe()\n",
    "\n",
    "preparar_cafe()\n",
    "\n",
    "preparar_cafe()"
   ]
  },
  {
   "cell_type": "code",
   "execution_count": null,
   "id": "c6a6eb3e",
   "metadata": {},
   "outputs": [
    {
     "name": "stdout",
     "output_type": "stream",
     "text": [
      "Aqui tiene su telefono Samsung\n",
      "Su capacidad es de 512 GB\n",
      "Es de color rojo\n"
     ]
    }
   ],
   "source": [
    "#Crear una funcion que pregunte las caracteristicas de un producto para comprar y que imprima el elemento con sus caracteristicas\n",
    "def elegir_marca_telefono(marca):\n",
    "    print(f\"Aqui tiene su telefono {marca}\")\n",
    "    print(\"Su capacidad es de 512 GB\")\n",
    "    print(\"Es de color rojo\")\n",
    "\n",
    "elegir_marca_telefono(\"Xiaomi\")"
   ]
  }
 ],
 "metadata": {
  "kernelspec": {
   "display_name": ".venv",
   "language": "python",
   "name": "python3"
  },
  "language_info": {
   "codemirror_mode": {
    "name": "ipython",
    "version": 3
   },
   "file_extension": ".py",
   "mimetype": "text/x-python",
   "name": "python",
   "nbconvert_exporter": "python",
   "pygments_lexer": "ipython3",
   "version": "3.12.3"
  }
 },
 "nbformat": 4,
 "nbformat_minor": 5
}

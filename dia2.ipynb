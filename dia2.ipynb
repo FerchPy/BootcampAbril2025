{
 "cells": [
  {
   "cell_type": "code",
   "execution_count": 15,
   "id": "87564b8d",
   "metadata": {},
   "outputs": [
    {
     "name": "stdout",
     "output_type": "stream",
     "text": [
      "Podes tomar pero no comprar\n"
     ]
    }
   ],
   "source": [
    "edad_cliente = 20\n",
    "\n",
    "if edad_cliente < 18:\n",
    "    print('Juguito nomas')\n",
    "elif edad_cliente >= 21:\n",
    "    print('hace lo que quieras')\n",
    "else:\n",
    "    print('Podes tomar pero no comprar')\n"
   ]
  },
  {
   "cell_type": "code",
   "execution_count": 40,
   "id": "8bd60e7d",
   "metadata": {},
   "outputs": [
    {
     "name": "stdout",
     "output_type": "stream",
     "text": [
      "Si hacen 25 grados entonces Calorcito\n"
     ]
    }
   ],
   "source": [
    "temperatura_actual = int(input('Cual es la temperatura actual'))\n",
    "\n",
    "if temperatura_actual >= -10 and temperatura_actual <= 18:\n",
    "    print(f'Si hacen {temperatura_actual} grados entonces fresquete')\n",
    "elif temperatura_actual > 18 and temperatura_actual <= 30:\n",
    "    print(f'Si hacen {temperatura_actual} grados entonces Calorcito')\n",
    "elif temperatura_actual >= 31 and temperatura_actual <= 45:\n",
    "    print(f'Si hacen {temperatura_actual} grados entonces Hakuuuu')\n",
    "else:\n",
    "    print(f'Si hacen {temperatura_actual} grados entonces ñamano mba.e')\n"
   ]
  },
  {
   "cell_type": "code",
   "execution_count": 53,
   "id": "7085bcb0",
   "metadata": {},
   "outputs": [
    {
     "name": "stdout",
     "output_type": "stream",
     "text": [
      "Contraseña incorrecta\n",
      "Contraseña correcta\n"
     ]
    }
   ],
   "source": [
    "\n",
    "contraseña_correcta = 'hola12345'\n",
    "\n",
    "while True:\n",
    "   contraseña_ingresada = (input('Ingrese su contraseña'))\n",
    "   if contraseña_ingresada == contraseña_correcta:\n",
    "      print('Contraseña correcta')\n",
    "      break\n",
    "   else:\n",
    "      print('Contraseña incorrecta')\n",
    "    \n",
    "\n",
    "    \n",
    "    \n",
    "    \n"
   ]
  },
  {
   "cell_type": "code",
   "execution_count": 54,
   "id": "d93fc000",
   "metadata": {},
   "outputs": [
    {
     "name": "stdout",
     "output_type": "stream",
     "text": [
      "['Super Penguin', 'Pro Penguin', 'Hacker Penguin', 'Coach Penguin', 'Dev Penguin']\n",
      "['Super Penguin', 'Pro Penguin', 'Hacker Penguin', 'Coach Penguin', 'Dev Penguin', 'Full Stack Penguin']\n",
      "['Super Penguin', 'Geek Penguin', 'Hacker Penguin', 'Coach Penguin', 'Dev Penguin', 'Full Stack Penguin']\n",
      "['Super Penguin', 'Geek Penguin', 'Coach Penguin', 'Dev Penguin', 'Full Stack Penguin']\n"
     ]
    }
   ],
   "source": [
    "lista_pinguinos = ['Super Penguin', 'Pro Penguin', 'Hacker Penguin', 'Coach Penguin', 'Dev Penguin']\n",
    "print(lista_pinguinos)\n",
    "lista_pinguinos.append('Full Stack Penguin')\n",
    "print(lista_pinguinos)\n",
    "lista_pinguinos [1] = ('Geek Penguin')\n",
    "print(lista_pinguinos)\n",
    "lista_pinguinos.pop(2)\n",
    "print(lista_pinguinos)"
   ]
  },
  {
   "cell_type": "code",
   "execution_count": 60,
   "id": "9f6b4620",
   "metadata": {},
   "outputs": [
    {
     "name": "stdout",
     "output_type": "stream",
     "text": [
      "0\n",
      "10\n",
      "20\n",
      "30\n",
      "40\n",
      "50\n",
      "60\n",
      "70\n",
      "80\n",
      "90\n",
      "100\n"
     ]
    }
   ],
   "source": [
    "tabla = int(input('Que tabla deseas ver'))\n",
    "\n",
    "for i in range(11):\n",
    "    multiplicador = i * tabla\n",
    "    \n",
    "    print(multiplicador)"
   ]
  },
  {
   "cell_type": "code",
   "execution_count": 65,
   "id": "3c022f3a",
   "metadata": {},
   "outputs": [
    {
     "name": "stdout",
     "output_type": "stream",
     "text": [
      "Adidas\n",
      "Caterpillar\n",
      "Abercrombie\n",
      "Tommy Hillfiger\n"
     ]
    }
   ],
   "source": [
    "lista_de_marcas = ['Nike','Adidas','Puma','Caterpillar','Abercrombie','Tommy Hillfiger']\n",
    "\n",
    "for marca in lista_de_marcas:\n",
    "    if len(marca) >= 6:\n",
    "        print(marca)"
   ]
  },
  {
   "cell_type": "code",
   "execution_count": 77,
   "id": "79316ee3",
   "metadata": {},
   "outputs": [
    {
     "name": "stdout",
     "output_type": "stream",
     "text": [
      "Letra O aparecio 1 vez\n",
      "Letra O aparecio 2 vez\n"
     ]
    }
   ],
   "source": [
    "ingresar_palabra = (input('Dame una plabra'))\n",
    "contador = 0\n",
    "for letras in ingresar_palabra:\n",
    "    if (letras) == 'o':\n",
    "        contador += 1\n",
    "        print(f'Letra O aparecio {contador} vez')\n",
    "        "
   ]
  }
 ],
 "metadata": {
  "kernelspec": {
   "display_name": ".venv",
   "language": "python",
   "name": "python3"
  },
  "language_info": {
   "codemirror_mode": {
    "name": "ipython",
    "version": 3
   },
   "file_extension": ".py",
   "mimetype": "text/x-python",
   "name": "python",
   "nbconvert_exporter": "python",
   "pygments_lexer": "ipython3",
   "version": "3.12.3"
  }
 },
 "nbformat": 4,
 "nbformat_minor": 5
}
